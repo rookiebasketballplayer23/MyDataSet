{
 "cells": [
  {
   "cell_type": "code",
   "execution_count": 5,
   "metadata": {},
   "outputs": [
    {
     "name": "stdout",
     "output_type": "stream",
     "text": [
      "D:\\Download\\dl-fish-master\\fish_image\\fish_01\n",
      "正在生成以Dascyllus reticulatus1.png迭代的文件名\n"
     ]
    },
    {
     "ename": "FileExistsError",
     "evalue": "[WinError 183] 当文件已存在时，无法创建该文件。: 'D:\\\\Download\\\\dl-fish-master\\\\fish_image\\\\fish_01\\\\Dascyllus reticulatus_10.png' -> 'D:\\\\Download\\\\dl-fish-master\\\\fish_image\\\\fish_01\\\\Dascyllus reticulatus_2.png'",
     "output_type": "error",
     "traceback": [
      "\u001b[1;31m---------------------------------------------------------------------------\u001b[0m",
      "\u001b[1;31mFileExistsError\u001b[0m                           Traceback (most recent call last)",
      "\u001b[1;32m<ipython-input-5-95ecfddaa711>\u001b[0m in \u001b[0;36m<module>\u001b[1;34m()\u001b[0m\n\u001b[0;32m     27\u001b[0m         \u001b[0mprint\u001b[0m\u001b[1;33m(\u001b[0m\u001b[1;34m\"一共修改了\"\u001b[0m\u001b[1;33m+\u001b[0m\u001b[0mstr\u001b[0m\u001b[1;33m(\u001b[0m\u001b[0mcount\u001b[0m\u001b[1;33m)\u001b[0m\u001b[1;33m+\u001b[0m\u001b[1;34m\"个文件\"\u001b[0m\u001b[1;33m)\u001b[0m\u001b[1;33m\u001b[0m\u001b[0m\n\u001b[0;32m     28\u001b[0m \u001b[1;33m\u001b[0m\u001b[0m\n\u001b[1;32m---> 29\u001b[1;33m \u001b[0mrename\u001b[0m\u001b[1;33m(\u001b[0m\u001b[0mspecies_lst\u001b[0m\u001b[1;33m)\u001b[0m\u001b[1;33m\u001b[0m\u001b[0m\n\u001b[0m",
      "\u001b[1;32m<ipython-input-5-95ecfddaa711>\u001b[0m in \u001b[0;36mrename\u001b[1;34m(lst)\u001b[0m\n\u001b[0;32m     23\u001b[0m                 \u001b[1;32mcontinue\u001b[0m\u001b[1;33m\u001b[0m\u001b[0m\n\u001b[0;32m     24\u001b[0m             \u001b[0mNewdir\u001b[0m\u001b[1;33m=\u001b[0m\u001b[0mos\u001b[0m\u001b[1;33m.\u001b[0m\u001b[0mpath\u001b[0m\u001b[1;33m.\u001b[0m\u001b[0mjoin\u001b[0m\u001b[1;33m(\u001b[0m\u001b[0mpath\u001b[0m\u001b[1;33m,\u001b[0m\u001b[0mname\u001b[0m\u001b[1;33m+\u001b[0m\u001b[1;34m\"_\"\u001b[0m\u001b[1;33m+\u001b[0m\u001b[0mstr\u001b[0m\u001b[1;33m(\u001b[0m\u001b[0mcount\u001b[0m\u001b[1;33m+\u001b[0m\u001b[0mint\u001b[0m\u001b[1;33m(\u001b[0m\u001b[0mstartNumber\u001b[0m\u001b[1;33m)\u001b[0m\u001b[1;33m)\u001b[0m\u001b[1;33m+\u001b[0m\u001b[0mfileType\u001b[0m\u001b[1;33m)\u001b[0m\u001b[1;33m\u001b[0m\u001b[0m\n\u001b[1;32m---> 25\u001b[1;33m             \u001b[0mos\u001b[0m\u001b[1;33m.\u001b[0m\u001b[0mrename\u001b[0m\u001b[1;33m(\u001b[0m\u001b[0mOlddir\u001b[0m\u001b[1;33m,\u001b[0m\u001b[0mNewdir\u001b[0m\u001b[1;33m)\u001b[0m\u001b[1;33m\u001b[0m\u001b[0m\n\u001b[0m\u001b[0;32m     26\u001b[0m             \u001b[0mcount\u001b[0m\u001b[1;33m+=\u001b[0m\u001b[1;36m1\u001b[0m\u001b[1;33m\u001b[0m\u001b[0m\n\u001b[0;32m     27\u001b[0m         \u001b[0mprint\u001b[0m\u001b[1;33m(\u001b[0m\u001b[1;34m\"一共修改了\"\u001b[0m\u001b[1;33m+\u001b[0m\u001b[0mstr\u001b[0m\u001b[1;33m(\u001b[0m\u001b[0mcount\u001b[0m\u001b[1;33m)\u001b[0m\u001b[1;33m+\u001b[0m\u001b[1;34m\"个文件\"\u001b[0m\u001b[1;33m)\u001b[0m\u001b[1;33m\u001b[0m\u001b[0m\n",
      "\u001b[1;31mFileExistsError\u001b[0m: [WinError 183] 当文件已存在时，无法创建该文件。: 'D:\\\\Download\\\\dl-fish-master\\\\fish_image\\\\fish_01\\\\Dascyllus reticulatus_10.png' -> 'D:\\\\Download\\\\dl-fish-master\\\\fish_image\\\\fish_01\\\\Dascyllus reticulatus_2.png'"
     ]
    }
   ],
   "source": [
    "#coding=gbk\n",
    "#批量重命名\n",
    "import os\n",
    "import sys\n",
    "\n",
    "species_lst = [\"Dascyllus reticulatus\", \"Plectroglyphidodon dickii\", \"Chromis chrysura\", \"Amphiprion clarkii\", \n",
    "               \"Chaetodon lunulatus\"]\n",
    "\n",
    "def rename(lst):\n",
    "    for i in range(len(lst)):\n",
    "        path=\"D:\\Download\\dl-fish-master\\\\fish_image\\\\fish_\"\n",
    "        path+=\"0\"+str(i+1)\n",
    "        print(path)\n",
    "        startNumber=\"1\"\n",
    "        name = lst[i]\n",
    "        fileType=\".png\"\n",
    "        print(\"正在生成以\"+name+startNumber+fileType+\"迭代的文件名\")\n",
    "        count=0\n",
    "        filelist=os.listdir(path)\n",
    "        for files in filelist:\n",
    "            Olddir=os.path.join(path,files)\n",
    "            if os.path.isdir(Olddir):\n",
    "                continue\n",
    "            Newdir=os.path.join(path,name+\"_\"+str(count+int(startNumber))+fileType)\n",
    "            os.rename(Olddir,Newdir)\n",
    "            count+=1\n",
    "        print(\"一共修改了\"+str(count)+\"个文件\")\n",
    "\n",
    "rename(species_lst) \n"
   ]
  },
  {
   "cell_type": "code",
   "execution_count": 6,
   "metadata": {},
   "outputs": [
    {
     "name": "stdout",
     "output_type": "stream",
     "text": [
      "****************\n",
      "input : D:\\Download\\dl-fish-master\\fish_image\\fish_01\n",
      "start...\n",
      "down!\n",
      "****************\n",
      "****************\n",
      "input : D:\\Download\\dl-fish-master\\fish_image\\fish_02\n",
      "start...\n",
      "down!\n",
      "****************\n",
      "****************\n",
      "input : D:\\Download\\dl-fish-master\\fish_image\\fish_03\n",
      "start...\n",
      "down!\n",
      "****************\n",
      "****************\n",
      "input : D:\\Download\\dl-fish-master\\fish_image\\fish_04\n",
      "start...\n",
      "down!\n",
      "****************\n",
      "****************\n",
      "input : D:\\Download\\dl-fish-master\\fish_image\\fish_05\n",
      "start...\n",
      "down!\n",
      "****************\n"
     ]
    }
   ],
   "source": [
    "#!/usr/bin/python\n",
    "# -*- coding:utf-8 -*-\n",
    "# 制作标签\n",
    "import os\n",
    "def generate(dir,label):\n",
    "    files = os.listdir(dir)\n",
    "    files.sort()\n",
    "    print('****************')\n",
    "    print('input :',dir)\n",
    "    print('start...')\n",
    "    listText = open('all_list.txt','a')\n",
    "    for file in files:\n",
    "        fileType = os.path.split(file)\n",
    "        if fileType[1] == '.txt':\n",
    "            continue\n",
    "        name = file + ' ' + str(int(label)) +'\\n'\n",
    "        listText.write(name)\n",
    "    listText.close()\n",
    "    print('down!')\n",
    "    print('****************')\n",
    " \n",
    " \n",
    "outer_path = 'D:\\Download\\dl-fish-master\\\\fish_image'   \n",
    " \n",
    "i = 0\n",
    "folderlist = os.listdir(outer_path)          #列举文件夹\n",
    "for folder in folderlist:\n",
    "    generate(os.path.join(outer_path, folder),i)\n",
    "    i += 1"
   ]
  },
  {
   "cell_type": "code",
   "execution_count": 9,
   "metadata": {},
   "outputs": [],
   "source": [
    "import os\n",
    "import numpy as np\n",
    "\n",
    "filelst = []\n",
    "\n",
    "for line in open(\"all_list.txt\",\"r\"):\n",
    "    filelst.append(line)\n",
    "\n",
    "np.random.shuffle(filelst)\n",
    "\n",
    "train_set = filelst[:int(len(filelst)*0.8)]\n",
    "test_set = filelst[int(len(filelst)*0.8):]\n",
    "\n",
    "with open('train_set.txt', 'w') as f1, open('test_set.txt', 'w') as f2:\n",
    "    for i in train_set:\n",
    "        f1.write(i)\n",
    "    for j in test_set:\n",
    "        f2.write(j)"
   ]
  },
  {
   "cell_type": "code",
   "execution_count": 34,
   "metadata": {},
   "outputs": [
    {
     "ename": "ModuleNotFoundError",
     "evalue": "No module named 'torch'",
     "output_type": "error",
     "traceback": [
      "\u001b[1;31m---------------------------------------------------------------------------\u001b[0m",
      "\u001b[1;31mModuleNotFoundError\u001b[0m                       Traceback (most recent call last)",
      "\u001b[1;32m<ipython-input-34-994bb7bc6e72>\u001b[0m in \u001b[0;36m<module>\u001b[1;34m()\u001b[0m\n\u001b[1;32m----> 1\u001b[1;33m \u001b[1;32mimport\u001b[0m \u001b[0mtorch\u001b[0m\u001b[1;33m\u001b[0m\u001b[0m\n\u001b[0m\u001b[0;32m      2\u001b[0m \u001b[1;32mfrom\u001b[0m \u001b[0mtorchvision\u001b[0m \u001b[1;32mimport\u001b[0m \u001b[0mtransforms\u001b[0m\u001b[1;33m\u001b[0m\u001b[0m\n\u001b[0;32m      3\u001b[0m \u001b[1;32mfrom\u001b[0m \u001b[0mtorch\u001b[0m\u001b[1;33m.\u001b[0m\u001b[0mutils\u001b[0m\u001b[1;33m.\u001b[0m\u001b[0mdata\u001b[0m \u001b[1;32mimport\u001b[0m \u001b[0mDataset\u001b[0m\u001b[1;33m,\u001b[0m \u001b[0mDataLoader\u001b[0m\u001b[1;33m\u001b[0m\u001b[0m\n\u001b[0;32m      4\u001b[0m \u001b[1;32mfrom\u001b[0m \u001b[0mPIL\u001b[0m \u001b[1;32mimport\u001b[0m \u001b[0mImage\u001b[0m\u001b[1;33m\u001b[0m\u001b[0m\n\u001b[0;32m      5\u001b[0m '''\n",
      "\u001b[1;31mModuleNotFoundError\u001b[0m: No module named 'torch'"
     ]
    }
   ],
   "source": [
    "import torch\n",
    "from torchvision import transforms\n",
    "from torch.utils.data import Dataset, DataLoader\n",
    "from PIL import Image\n",
    "'''\n",
    "root = \"D:\\Download\\dl-fish-master\"\n",
    "\n",
    "# 自定义图片图片读取方式，可以自行增加resize、数据增强等操作\n",
    "def MyLoader(path):\n",
    "    return Image.open(path).convert('RGB')\n",
    "    \n",
    "class MyDataset (Dataset):\n",
    "    # 构造函数设置默认参数\n",
    "    def __init__(self, txt, transform=None, target_transform=None, loader=MyLoader):\n",
    "        with open(txt, 'r') as fh:\n",
    "            imgs = []\n",
    "            for line in fh:\n",
    "                line = line.strip('\\n')  # 移除字符串首尾的换行符\n",
    "                line = line.rstrip()  # 删除末尾空\n",
    "                words = line.split( )  # 以空格为分隔符 将字符串分成\n",
    "                imgs.append((words[0], int(words[1]))) # imgs中包含有图像路径和标签\n",
    "        self.imgs = imgs\n",
    "        self.transform = transform\n",
    "        self.target_transform = target_transform\n",
    "        self.loader = loader\n",
    "\n",
    "    def __getitem__(self, index):\n",
    "        fn, label = self.imgs[index]\n",
    "        #调用定义的loader方法\n",
    "        img = self.loader(fn)\n",
    "        if self.transform is not None:\n",
    "            img = self.transform(img)\n",
    "        return img, label\n",
    "\n",
    "    def __len__(self):\n",
    "        return len(self.imgs)\n",
    "\n",
    "\n",
    "train_data = MyDataset(txt=root + '\\\\' + 'train_set.txt', transform=transforms.ToTensor())\n",
    "test_data = MyDataset(txt=root + '\\\\' + 'test_set.txt', transform=transforms.ToTensor())\n",
    "\n",
    "#train_data 和test_data包含多有的训练与测试数据，调用DataLoader批量加载\n",
    "train_loader = DataLoader(dataset=train_data, batch_size=64, shuffle=True)\n",
    "test_loader = DataLoader(dataset=test_data, batch_size=64)\n",
    "\n",
    "print('加载成功！')\n",
    "'''"
   ]
  },
  {
   "cell_type": "code",
   "execution_count": 1,
   "metadata": {},
   "outputs": [
    {
     "ename": "ModuleNotFoundError",
     "evalue": "No module named 'torch'",
     "output_type": "error",
     "traceback": [
      "\u001b[1;31m---------------------------------------------------------------------------\u001b[0m",
      "\u001b[1;31mModuleNotFoundError\u001b[0m                       Traceback (most recent call last)",
      "\u001b[1;32m<ipython-input-1-eb42ca6e4af3>\u001b[0m in \u001b[0;36m<module>\u001b[1;34m()\u001b[0m\n\u001b[1;32m----> 1\u001b[1;33m \u001b[1;32mimport\u001b[0m \u001b[0mtorch\u001b[0m\u001b[1;33m\u001b[0m\u001b[0m\n\u001b[0m",
      "\u001b[1;31mModuleNotFoundError\u001b[0m: No module named 'torch'"
     ]
    }
   ],
   "source": [
    "import torch"
   ]
  },
  {
   "cell_type": "code",
   "execution_count": null,
   "metadata": {},
   "outputs": [],
   "source": []
  }
 ],
 "metadata": {
  "kernelspec": {
   "display_name": "python36",
   "language": "python",
   "name": "python36"
  },
  "language_info": {
   "codemirror_mode": {
    "name": "ipython",
    "version": 3
   },
   "file_extension": ".py",
   "mimetype": "text/x-python",
   "name": "python",
   "nbconvert_exporter": "python",
   "pygments_lexer": "ipython3",
   "version": "3.6.5"
  }
 },
 "nbformat": 4,
 "nbformat_minor": 2
}
